{
 "cells": [
  {
   "cell_type": "code",
   "execution_count": 1,
   "metadata": {},
   "outputs": [],
   "source": [
    "import numpy as np\n",
    "import matplotlib.pyplot as plt\n",
    "import scipy.stats as st"
   ]
  },
  {
   "cell_type": "code",
   "execution_count": 2,
   "metadata": {},
   "outputs": [],
   "source": [
    "def avg_call_price(Ct, T, t):\n",
    "    return 1/len(Ct[:, -1]) * np.exp(-r*(T-t)) * np.sum(Ct[:, -1])\n",
    "\n",
    "n = 10**4\n",
    "time_points = 100\n",
    "end = 10\n",
    "T = np.linspace(0, end, time_points)\n",
    "r = -0.0027\n",
    "σ = 0.21\n",
    "\n",
    "Ct = np.zeros((n, time_points))\n",
    "for i in np.arange(n):\n",
    "    S = np.zeros(time_points)\n",
    "    S[0] = 715\n",
    "    for j in np.arange(1, time_points):\n",
    "        # formule uit einde lecture 4\n",
    "        S[j] = S[j-1] * np.exp((r - 0.5*σ**2) * (T[j] - T[j-1]) + np.random.normal() * σ * (T[j] - T[j-1])**0.5)\n",
    "    Ct[i, :] = S\n",
    "\n",
    "# nsamples x ntime points array\n",
    "# np.savetxt(\"MC_stock_prices.txt\", Ct, delimiter=\",\")"
   ]
  },
  {
   "cell_type": "code",
   "execution_count": 3,
   "metadata": {},
   "outputs": [],
   "source": [
    "# take log to force positive prices\n",
    "Ct = np.log(Ct)\n",
    "\n",
    "# calculate mean, std at each time point\n",
    "errors = np.std(Ct, axis=0)\n",
    "means = np.mean(Ct, axis=0)\n",
    "\n",
    "interval = st.norm.interval(0.95, loc=np.mean(Ct, axis=0), scale=np.std(Ct, axis=0))"
   ]
  },
  {
   "cell_type": "code",
   "execution_count": 4,
   "metadata": {},
   "outputs": [
    {
     "name": "stdout",
     "output_type": "stream",
     "text": [
      "95% CI stock price after 10 years: (153.0124990124878, 2061.352264875427)\n"
     ]
    }
   ],
   "source": [
    "print(f\"95% CI stock price after 10 years: {np.exp((interval[0][-1])), np.exp((interval[1][-1]))}\")"
   ]
  },
  {
   "cell_type": "code",
   "execution_count": 5,
   "metadata": {},
   "outputs": [],
   "source": [
    "# om de data te creëeren\n",
    "\n",
    "# n = 10**4\n",
    "# m = 10**2\n",
    "# Δt = T[-1]/m\n",
    "\n",
    "# It = np.zeros((n, m))\n",
    "# for i in range(n):\n",
    "#     S = [715]\n",
    "#     for j, t in enumerate(np.arange(Δt, end, Δt)):\n",
    "        ## formule lecture 4\n",
    "#         S += [S[-1] * np.exp((r - 0.5*σ**2) * Δt + np.random.normal() * σ * Δt**0.5)]\n",
    "        ## trapezoid rule\n",
    "#         It[i, j] = 1/T[j+1] * np.sum([(S[k+1] + S[k])/2 * Δt for k in range(len(S)-1)])\n",
    "\n",
    "# # save as n x m array\n",
    "# np.savetxt(\"Q5_prices.txt\", It, delimiter=\",\")"
   ]
  },
  {
   "cell_type": "code",
   "execution_count": 6,
   "metadata": {},
   "outputs": [
    {
     "name": "stdout",
     "output_type": "stream",
     "text": [
      "95% CI stock price after 10 years: (149.2021789703091, 1244.1761960880235)\n"
     ]
    }
   ],
   "source": [
    "It = np.loadtxt(\"Q5_prices.txt\", delimiter=\",\")[:, :-1]\n",
    "\n",
    "interval = st.norm.interval(0.95, loc=np.mean(It, axis=0), scale=np.std(It, axis=0))\n",
    "\n",
    "print(f\"95% CI stock price after 10 years: {interval[0][-1], interval[1][-1]}\")\n"
   ]
  },
  {
   "cell_type": "code",
   "execution_count": 7,
   "metadata": {},
   "outputs": [
    {
     "data": {
      "image/png": "[encoded data removed]",
      "text/plain": [
       "<Figure size 432x288 with 1 Axes>"
      ]
     },
     "metadata": {
      "needs_background": "light"
     },
     "output_type": "display_data"
    }
   ],
   "source": [
    "plt.plot(T, np.mean(np.exp(Ct), axis=0), 'k-')\n",
    "plt.plot(T[:-1], np.mean(It, axis=0))\n",
    "plt.show()"
   ]
  },
  {
   "cell_type": "code",
   "execution_count": 18,
   "metadata": {},
   "outputs": [
    {
     "name": "stdout",
     "output_type": "stream",
     "text": [
      "[[1.08807967e+01 2.30968781e-01]\n",
      " [2.30968781e-01 4.93399249e-03]]\n"
     ]
    }
   ],
   "source": [
    "# to be continued\n",
    "\n",
    "cov_matrix = np.cov([np.mean(It, axis=0), np.mean(Ct[:, :-1], axis=0)])\n",
    "\n",
    "print(cov_matrix)\n",
    "\n",
    "β = -cov_matrix[0, 1] / cov_matrix[1, 1]\n",
    "\n",
    "# It = \n",
    "\n",
    "# It_control = np.zeros(len(It))\n",
    "# for i in np.arange(n):\n",
    "#     pass"
   ]
  }
 ],
 "metadata": {
  "kernelspec": {
   "display_name": "Python 3",
   "language": "python",
   "name": "python3"
  },
  "language_info": {
   "codemirror_mode": {
    "name": "ipython",
    "version": 3
   },
   "file_extension": ".py",
   "mimetype": "text/x-python",
   "name": "python",
   "nbconvert_exporter": "python",
   "pygments_lexer": "ipython3",
   "version": "3.8.6"
  }
 },
 "nbformat": 4,
 "nbformat_minor": 4
}
