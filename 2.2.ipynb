{
 "cells": [
  {
   "cell_type": "code",
   "execution_count": 2,
   "metadata": {},
   "outputs": [],
   "source": [
    "%matplotlib inline\n",
    "\n",
    "import numpy as np\n",
    "import matplotlib.pyplot as plt\n",
    "\n",
    "from matplotlib import animation, rc\n",
    "from IPython.display import HTML\n",
    "\n",
    "from time import sleep\n",
    "from IPython.display import clear_output\n",
    "\n",
    "import collections\n",
    "import sys\n",
    "\n",
    "import pandas as pd"
   ]
  },
  {
   "cell_type": "code",
   "execution_count": 3,
   "metadata": {},
   "outputs": [],
   "source": [
    "class Simulation():\n",
    "    def __init__(self, top_boundary=100, bottom_boundary=0,\n",
    "                 left_boundary=0, right_boundary=100, prob_of_attachment=1):\n",
    "        \n",
    "        self.prob_of_attachment = prob_of_attachment\n",
    "        self.env = Environment(self, top_boundary, bottom_boundary,\n",
    "                               left_boundary, right_boundary)\n",
    "        \n",
    "        \n",
    "    def timestep(self):\n",
    "        \n",
    "        # Add walker each time step, until maximum\n",
    "        if len(self.env.walkers) < self.env.n_walkers:\n",
    "            self.env.add_walker()\n",
    "        \n",
    "        # Let all walkers take a random step         \n",
    "        for walker in self.env.walkers:\n",
    "            walker.random_move()\n",
    "\n",
    "    \n",
    "class Environment():\n",
    "    def __init__(self, sim, top_boundary, bottom_boundary, left_boundary, \n",
    "                 right_boundary, n_walkers=1):\n",
    "        self.sim = sim\n",
    "        self.top_boundary = top_boundary\n",
    "        self.bottom_boundary = bottom_boundary\n",
    "        self.left_boundary = left_boundary\n",
    "        self.right_boundary = right_boundary\n",
    "        self.n_walkers = n_walkers\n",
    "        \n",
    "        self.grid = self.gen_grid()\n",
    "        \n",
    "        self.object = Object(self)\n",
    "        \n",
    "        self.walkers = []\n",
    "        self.init_walkers()\n",
    "\n",
    "    def init_walkers(self):\n",
    "        self.walkers = [Walker(self, prob_of_attachment=self.sim.prob_of_attachment)]\n",
    "    \n",
    "    def add_walker(self):\n",
    "        self.walkers += [Walker(self, prob_of_attachment=self.sim.prob_of_attachment)]\n",
    "        \n",
    "    def gen_grid(self):\n",
    "        return np.zeros((self.top_boundary, self.right_boundary))\n",
    "    \n",
    "    def add_cell(self,cell,cell_type):\n",
    "        if cell_type == 'walker':\n",
    "            self.grid[self.top_boundary-cell[1]-1][cell[0]] = 1\n",
    "        else:\n",
    "            self.grid[self.top_boundary-cell[1]-1][cell[0]] = 0.5\n",
    "    \n",
    "    def delete_cell(self, cell):\n",
    "        self.grid[self.top_boundary - cell[1] - 1][cell[0]] = 0\n",
    "    \n",
    "    def move_cell(self, old_cell, new_cell, cell_type):\n",
    "        self.grid[self.top_boundary - old_cell[1] - 1][old_cell[0]] = 0\n",
    "        self.grid[self.top_boundary - new_cell[1] - 1][new_cell[0]] = 1\n",
    "            \n",
    "\n",
    "class Walker():\n",
    "    def __init__(self, Environment, prob_of_attachment=1):\n",
    "        self.env = Environment\n",
    "        self.pos = self.random_init_pos()\n",
    "        self.prob_of_attachment = prob_of_attachment\n",
    "        \n",
    "    def random_init_pos(self):\n",
    "        # Check which cells on the top row are available for spawning\n",
    "        toprow_available = [i for i in np.arange(self.env.left_boundary, self.env.right_boundary) \n",
    "                            if not self.check_in_object(np.array([i,self.env.top_boundary-1]))\n",
    "                            and not self.check_other_walkers(np.array([i,self.env.top_boundary-1]))]\n",
    "\n",
    "        \n",
    "        if len(toprow_available) == 1:\n",
    "            self.remove_walker()\n",
    "            return\n",
    "    \n",
    "        pos = np.array([np.random.choice(toprow_available), self.env.top_boundary-1]) #[x,y]\n",
    "    \n",
    "        self.env.add_cell(pos, 'walker')\n",
    "        \n",
    "        return pos\n",
    "    \n",
    "    def remove_walker(self):\n",
    "        self.env.walkers.remove(self)\n",
    "        self.env.delete_cell(self.pos)\n",
    "    \n",
    "    def random_move(self):\n",
    "        \n",
    "        # Select possible directions\n",
    "        directions = [np.array([-1,0]),np.array([1,0]),\n",
    "                      np.array([0,-1]),np.array([0,1])]\n",
    "        \n",
    "        possible_directions = []\n",
    "        for direction in directions:\n",
    "            if not self.check_in_object(self.pos+direction) and not self.check_other_walkers(self.pos+direction):\n",
    "                possible_directions += [direction]\n",
    "        \n",
    "        # Choose direction:\n",
    "        if len(possible_directions) == 0:\n",
    "            return\n",
    "        \n",
    "        choice = np.random.choice(range(len(possible_directions)))\n",
    "        direction = possible_directions[choice]\n",
    "        \n",
    "        # Check if new position is allowed:\n",
    "        newpos = self.pos + direction\n",
    "        if newpos[1] >= self.env.top_boundary or newpos[1] < self.env.bottom_boundary:\n",
    "            self.remove_walker()\n",
    "            self.env.add_walker()\n",
    "            return\n",
    "        elif newpos[0] == self.env.right_boundary:\n",
    "            newpos = np.array([0,newpos[1]])\n",
    "        elif newpos[0] <= self.env.left_boundary:\n",
    "            newpos = np.array([self.env.right_boundary-1, newpos[1]])\n",
    "        \n",
    "        self.env.move_cell(self.pos, newpos, 'walker')\n",
    "        self.pos = newpos\n",
    "        \n",
    "        \n",
    "        # Check if walker neighbors object:\n",
    "        neighbors = np.array([np.array([-1,0]),np.array([1,0]),\n",
    "                              np.array([0,-1]),np.array([0,1])])+self.pos\n",
    "\n",
    "        for neighbor in neighbors:\n",
    "            if self.check_in_object(neighbor) and np.random.uniform() < self.prob_of_attachment:\n",
    "                self.remove_walker()\n",
    "                self.env.object.add_cell(self.pos)\n",
    "                return\n",
    "        \n",
    "    def check_in_object(self, neighbor):\n",
    "        if neighbor[1] == self.env.top_boundary or neighbor[1] < self.env.bottom_boundary:\n",
    "            return False\n",
    "        elif self.env.grid[self.env.top_boundary-1-neighbor[1]][(neighbor[0])%self.env.right_boundary] == 0.5:\n",
    "            return True\n",
    "        return False\n",
    "    \n",
    "    def check_other_walkers(self, neighbor):\n",
    "        if neighbor[1] >= self.env.top_boundary or neighbor[1] < self.env.top_boundary:\n",
    "            return False\n",
    "        elif self.env.grid[self.env.top_boundary-1-neighbor[1]][(neighbor[0])%self.env.right_boundary] == 1:\n",
    "            return True\n",
    "        return False\n",
    "        \n",
    "class Object():\n",
    "    def __init__(self, env):\n",
    "        self.env = env\n",
    "        self.cells_in_object = np.array([np.array([int(0.5*self.env.right_boundary),int(0)])])\n",
    "        self.add_cell(np.array([int(self.env.right_boundary/2), 0]))\n",
    "        \n",
    "    def add_cell(self, cell):\n",
    "        self.cells_in_object = np.vstack((self.cells_in_object, cell))\n",
    "        self.env.add_cell(cell, 'object')"
   ]
  },
  {
   "cell_type": "code",
   "execution_count": 14,
   "metadata": {},
   "outputs": [
    {
     "name": "stdout",
     "output_type": "stream",
     "text": [
      "iteration  0\n",
      "iteration  100000\n",
      "iteration  200000\n",
      "iteration  300000\n",
      "iteration  400000\n"
     ]
    },
    {
     "data": {
      "text/plain": [
       "<Figure size 360x360 with 0 Axes>"
      ]
     },
     "metadata": {},
     "output_type": "display_data"
    }
   ],
   "source": [
    "n = 5*10**5\n",
    "# n = 50\n",
    "# n = 2\n",
    "\n",
    "sim = Simulation(top_boundary=50, bottom_boundary=0,\n",
    "                 left_boundary=0, right_boundary=50, \n",
    "                 prob_of_attachment=1)\n",
    "\n",
    "# sim = Simulation()\n",
    "\n",
    "# a = np.zeros((sim.env.right_boundary, sim.env.top_boundary))\n",
    "# a = sim.env.grid\n",
    "# plt.figure(figsize=(5,5))\n",
    "\n",
    "# t = 0\n",
    "# while True:\n",
    "#     if t%10000==0:\n",
    "#         clear_output(wait=True)\n",
    "#         plt.imshow(a)\n",
    "#         plt.show()\n",
    "#     sim.timestep()\n",
    "#     a = sim.env.grid\n",
    "# #     print(len(sim.env.walkers))\n",
    "# #     sleep(0.01)\n",
    "# #     clear_output(wait=True)\n",
    "#     t += 1\n",
    "\n",
    "for i in range(n):\n",
    "    if i%100000==0:\n",
    "        print('iteration ', i)\n",
    "    sim.timestep()"
   ]
  },
  {
   "cell_type": "code",
   "execution_count": 24,
   "metadata": {},
   "outputs": [
    {
     "name": "stdout",
     "output_type": "stream",
     "text": [
      "iteration  0\n",
      "iteration  100000\n",
      "iteration  200000\n",
      "iteration  300000\n",
      "iteration  400000\n",
      "iteration  500000\n",
      "iteration  600000\n",
      "iteration  700000\n"
     ]
    }
   ],
   "source": [
    "n = 8*10**5\n",
    "\n",
    "sim = Simulation(top_boundary=50, bottom_boundary=0,\n",
    "                 left_boundary=0, right_boundary=50, \n",
    "                 prob_of_attachment=1)\n",
    "\n",
    "for i in range(n):\n",
    "    if i%100000==0:\n",
    "        print('iteration ', i)\n",
    "    sim.timestep()"
   ]
  },
  {
   "cell_type": "code",
   "execution_count": 25,
   "metadata": {},
   "outputs": [
    {
     "data": {
      "image/png": "[encoded data removed]",
      "text/plain": [
       "<Figure size 360x360 with 1 Axes>"
      ]
     },
     "metadata": {
      "needs_background": "light"
     },
     "output_type": "display_data"
    }
   ],
   "source": [
    "fig = plt.subplots(figsize=(5,5))\n",
    "plt.imshow(sim.env.grid)\n",
    "plt.xlabel('x')\n",
    "plt.ylabel('y')\n",
    "plt.axis('off')\n",
    "\n",
    "plt.tight_layout()\n",
    "plt.savefig('MC_DLA_50000.pdf', bbox_inches='tight')\n",
    "plt.show()"
   ]
  },
  {
   "cell_type": "code",
   "execution_count": 216,
   "metadata": {},
   "outputs": [],
   "source": [
    "df = pd.DataFrame(sim.env.grid)\n",
    "df.to_csv('MC_DLA_50000.csv')"
   ]
  },
  {
   "cell_type": "code",
   "execution_count": 245,
   "metadata": {},
   "outputs": [
    {
     "name": "stdout",
     "output_type": "stream",
     "text": [
      "0.9 , iteration  0\n",
      "0.9 , iteration  10000\n",
      "0.9 , iteration  20000\n",
      "0.5 , iteration  0\n",
      "0.5 , iteration  10000\n",
      "0.5 , iteration  20000\n",
      "0.1 , iteration  0\n",
      "0.1 , iteration  10000\n",
      "0.1 , iteration  20000\n"
     ]
    }
   ],
   "source": [
    "n = 3*10**4\n",
    "\n",
    "MC_results = {}\n",
    "\n",
    "for p in [0.9, 0.5, 0.1]:\n",
    "    sim = Simulation()\n",
    "    for i in range(n):\n",
    "        if i%10000==0:\n",
    "            print(p,', iteration ', i)\n",
    "        sim.timestep()\n",
    "    df = pd.DataFrame(sim.env.grid)\n",
    "    df.to_csv('MC_DLA_'+str(p)+'_30000.csv')\n",
    "    MC_results[p] = sim.env.grid"
   ]
  },
  {
   "cell_type": "code",
   "execution_count": 246,
   "metadata": {},
   "outputs": [
    {
     "data": {
      "image/png": "[encoded data removed]",
      "text/plain": [
       "<Figure size 864x288 with 3 Axes>"
      ]
     },
     "metadata": {
      "needs_background": "light"
     },
     "output_type": "display_data"
    }
   ],
   "source": [
    "fig, [ax1,ax2,ax3] = plt.subplots(1,3,figsize=(12,4))\n",
    "\n",
    "ax1.imshow(MC_results[0.9])\n",
    "ax1.set_title('$p=0.9$')\n",
    "ax1.set_xticks(np.linspace(0,99,5), [1,25,50,75,100])\n",
    "ax1.set_yticks(np.linspace(0,99,5)[::-1], [1,25,50,75,100])\n",
    "\n",
    "ax2.imshow(MC_results[0.5])\n",
    "ax2.set_title('$p=0.5$')\n",
    "ax2.set_xticks(np.linspace(0,99,5), [1,25,50,75,100])\n",
    "ax2.set_yticks(np.linspace(0,99,5)[::-1], [1,25,50,75,100])\n",
    "\n",
    "ax3.imshow(MC_results[0.1])\n",
    "ax3.set_title('$p=0.1$')\n",
    "ax3.set_xticks(np.linspace(0,99,5), [1,25,50,75,100])\n",
    "ax3.set_yticks(np.linspace(0,99,5)[::-1], [1,25,50,75,100])\n",
    "\n",
    "plt.tight_layout()\n",
    "plt.savefig('MC_DLA_probs_30000.pdf', bbox_inches='tight')\n",
    "plt.show()"
   ]
  },
  {
   "cell_type": "code",
   "execution_count": null,
   "metadata": {},
   "outputs": [],
   "source": []
  }
 ],
 "metadata": {
  "kernelspec": {
   "display_name": "Python 3",
   "language": "python",
   "name": "python3"
  },
  "language_info": {
   "codemirror_mode": {
    "name": "ipython",
    "version": 3
   },
   "file_extension": ".py",
   "mimetype": "text/x-python",
   "name": "python",
   "nbconvert_exporter": "python",
   "pygments_lexer": "ipython3",
   "version": "3.7.3"
  }
 },
 "nbformat": 4,
 "nbformat_minor": 2
}
