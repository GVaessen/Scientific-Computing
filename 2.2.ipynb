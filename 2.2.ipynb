{
 "cells": [
  {
   "cell_type": "code",
   "execution_count": 7,
   "metadata": {},
   "outputs": [],
   "source": [
    "%matplotlib inline\n",
    "\n",
    "import numpy as np\n",
    "import matplotlib.pyplot as plt\n",
    "\n",
    "from matplotlib import animation, rc\n",
    "from IPython.display import HTML\n",
    "\n",
    "from time import sleep\n",
    "from IPython.display import clear_output\n",
    "\n",
    "import collections\n",
    "import sys\n",
    "\n",
    "import pandas as pd"
   ]
  },
  {
   "cell_type": "code",
   "execution_count": 8,
   "metadata": {},
   "outputs": [],
   "source": [
    "class Simulation():\n",
    "    def __init__(self, top_boundary=100, bottom_boundary=0,\n",
    "                 left_boundary=0, right_boundary=100, prob_of_attachment=1):\n",
    "        \n",
    "        self.prob_of_attachment = prob_of_attachment\n",
    "        self.env = Environment(self, top_boundary, bottom_boundary,\n",
    "                               left_boundary, right_boundary)\n",
    "        \n",
    "        \n",
    "    def timestep(self):\n",
    "        \n",
    "        # Add walker each time step, until maximum\n",
    "        if len(self.env.walkers) < self.env.n_walkers:\n",
    "            self.env.add_walker()\n",
    "        \n",
    "        # Let all walkers take a random step         \n",
    "        for walker in self.env.walkers:\n",
    "            walker.random_move()\n",
    "\n",
    "    \n",
    "class Environment():\n",
    "    def __init__(self, sim, top_boundary, bottom_boundary, left_boundary, \n",
    "                 right_boundary, n_walkers=1):\n",
    "        self.sim = sim\n",
    "        self.top_boundary = top_boundary\n",
    "        self.bottom_boundary = bottom_boundary\n",
    "        self.left_boundary = left_boundary\n",
    "        self.right_boundary = right_boundary\n",
    "        self.n_walkers = n_walkers\n",
    "        \n",
    "        self.grid = self.gen_grid()\n",
    "        \n",
    "        self.object = Object(self)\n",
    "        \n",
    "        self.walkers = []\n",
    "        self.init_walkers()\n",
    "\n",
    "    def init_walkers(self):\n",
    "        self.walkers = [Walker(self, prob_of_attachment=self.sim.prob_of_attachment)]\n",
    "    \n",
    "    def add_walker(self):\n",
    "        self.walkers += [Walker(self, prob_of_attachment=self.sim.prob_of_attachment)]\n",
    "        \n",
    "    def gen_grid(self):\n",
    "        return np.zeros((self.top_boundary, self.right_boundary))\n",
    "    \n",
    "    def add_cell(self,cell,cell_type):\n",
    "        if cell_type == 'walker':\n",
    "            self.grid[self.top_boundary-cell[1]-1][cell[0]] = 1\n",
    "        else:\n",
    "            self.grid[self.top_boundary-cell[1]-1][cell[0]] = 0.5\n",
    "    \n",
    "    def delete_cell(self, cell):\n",
    "        self.grid[self.top_boundary - cell[1] - 1][cell[0]] = 0\n",
    "    \n",
    "    def move_cell(self, old_cell, new_cell, cell_type):\n",
    "        self.grid[self.top_boundary - old_cell[1] - 1][old_cell[0]] = 0\n",
    "        self.grid[self.top_boundary - new_cell[1] - 1][new_cell[0]] = 1\n",
    "            \n",
    "\n",
    "class Walker():\n",
    "    def __init__(self, Environment, prob_of_attachment=1):\n",
    "        self.env = Environment\n",
    "        self.pos = self.random_init_pos()\n",
    "        self.prob_of_attachment = prob_of_attachment\n",
    "        \n",
    "    def random_init_pos(self):\n",
    "        # Check which cells on the top row are available for spawning\n",
    "        toprow_available = [i for i in np.arange(self.env.left_boundary, self.env.right_boundary) \n",
    "                            if not self.check_in_object(np.array([i,self.env.top_boundary-1]))\n",
    "                            and not self.check_other_walkers(np.array([i,self.env.top_boundary-1]))]\n",
    "\n",
    "        \n",
    "        if len(toprow_available) == 1:\n",
    "            self.remove_walker()\n",
    "            return\n",
    "    \n",
    "        pos = np.array([np.random.choice(toprow_available), self.env.top_boundary-1]) #[x,y]\n",
    "    \n",
    "        self.env.add_cell(pos, 'walker')\n",
    "        \n",
    "        return pos\n",
    "    \n",
    "    def remove_walker(self):\n",
    "        self.env.walkers.remove(self)\n",
    "        self.env.delete_cell(self.pos)\n",
    "    \n",
    "    def random_move(self):\n",
    "        \n",
    "        # Select possible directions\n",
    "        directions = [np.array([-1,0]),np.array([1,0]),\n",
    "                      np.array([0,-1]),np.array([0,1])]\n",
    "        \n",
    "        possible_directions = []\n",
    "        for direction in directions:\n",
    "            if not self.check_in_object(self.pos+direction) and not self.check_other_walkers(self.pos+direction):\n",
    "                possible_directions += [direction]\n",
    "        \n",
    "        # Choose direction:\n",
    "        if len(possible_directions) == 0:\n",
    "            return\n",
    "        \n",
    "        choice = np.random.choice(range(len(possible_directions)))\n",
    "        direction = possible_directions[choice]\n",
    "        \n",
    "        # Check if new position is allowed:\n",
    "        newpos = self.pos + direction\n",
    "        if newpos[1] >= self.env.top_boundary or newpos[1] < self.env.bottom_boundary:\n",
    "            self.remove_walker()\n",
    "            self.env.add_walker()\n",
    "            return\n",
    "        elif newpos[0] == self.env.right_boundary:\n",
    "            newpos = np.array([0,newpos[1]])\n",
    "        elif newpos[0] <= self.env.left_boundary:\n",
    "            newpos = np.array([self.env.right_boundary-1, newpos[1]])\n",
    "        \n",
    "        self.env.move_cell(self.pos, newpos, 'walker')\n",
    "        self.pos = newpos\n",
    "        \n",
    "        \n",
    "        # Check if walker neighbors object:\n",
    "        neighbors = np.array([np.array([-1,0]),np.array([1,0]),\n",
    "                              np.array([0,-1]),np.array([0,1])])+self.pos\n",
    "\n",
    "        for neighbor in neighbors:\n",
    "            if self.check_in_object(neighbor) and np.random.uniform() < self.prob_of_attachment:\n",
    "                self.remove_walker()\n",
    "                self.env.object.add_cell(self.pos)\n",
    "                return\n",
    "        \n",
    "    def check_in_object(self, neighbor):\n",
    "        if neighbor[1] == self.env.top_boundary or neighbor[1] < self.env.bottom_boundary:\n",
    "            return False\n",
    "        elif self.env.grid[self.env.top_boundary-1-neighbor[1]][(neighbor[0])%self.env.right_boundary] == 0.5:\n",
    "            return True\n",
    "        return False\n",
    "    \n",
    "    def check_other_walkers(self, neighbor):\n",
    "        if neighbor[1] >= self.env.top_boundary or neighbor[1] < self.env.top_boundary:\n",
    "            return False\n",
    "        elif self.env.grid[self.env.top_boundary-1-neighbor[1]][(neighbor[0])%self.env.right_boundary] == 1:\n",
    "            return True\n",
    "        return False\n",
    "        \n",
    "class Object():\n",
    "    def __init__(self, env):\n",
    "        self.env = env\n",
    "        self.cells_in_object = np.array([np.array([int(0.5*self.env.right_boundary),int(0)])])\n",
    "        self.add_cell(np.array([int(self.env.right_boundary/2), 0]))\n",
    "        \n",
    "    def add_cell(self, cell):\n",
    "        self.cells_in_object = np.vstack((self.cells_in_object, cell))\n",
    "        self.env.add_cell(cell, 'object')"
   ]
  },
  {
   "cell_type": "code",
   "execution_count": 6,
   "metadata": {},
   "outputs": [
    {
     "data": {
      "image/png": "[encoded data removed]",
      "text/plain": [
       "<Figure size 432x288 with 1 Axes>"
      ]
     },
     "metadata": {
      "needs_background": "light"
     },
     "output_type": "display_data"
    },
    {
     "ename": "KeyboardInterrupt",
     "evalue": "",
     "output_type": "error",
     "traceback": [
      "\u001b[1;31m---------------------------------------------------------------------------\u001b[0m",
      "\u001b[1;31mKeyboardInterrupt\u001b[0m                         Traceback (most recent call last)",
      "\u001b[1;32m<ipython-input-6-4b0e58dd3b0e>\u001b[0m in \u001b[0;36m<module>\u001b[1;34m\u001b[0m\n\u001b[0;32m     20\u001b[0m         \u001b[0mplt\u001b[0m\u001b[1;33m.\u001b[0m\u001b[0mimshow\u001b[0m\u001b[1;33m(\u001b[0m\u001b[0ma\u001b[0m\u001b[1;33m)\u001b[0m\u001b[1;33m\u001b[0m\u001b[1;33m\u001b[0m\u001b[0m\n\u001b[0;32m     21\u001b[0m         \u001b[0mplt\u001b[0m\u001b[1;33m.\u001b[0m\u001b[0mshow\u001b[0m\u001b[1;33m(\u001b[0m\u001b[1;33m)\u001b[0m\u001b[1;33m\u001b[0m\u001b[1;33m\u001b[0m\u001b[0m\n\u001b[1;32m---> 22\u001b[1;33m     \u001b[0msim\u001b[0m\u001b[1;33m.\u001b[0m\u001b[0mtimestep\u001b[0m\u001b[1;33m(\u001b[0m\u001b[1;33m)\u001b[0m\u001b[1;33m\u001b[0m\u001b[1;33m\u001b[0m\u001b[0m\n\u001b[0m\u001b[0;32m     23\u001b[0m     \u001b[0ma\u001b[0m \u001b[1;33m=\u001b[0m \u001b[0msim\u001b[0m\u001b[1;33m.\u001b[0m\u001b[0menv\u001b[0m\u001b[1;33m.\u001b[0m\u001b[0mgrid\u001b[0m\u001b[1;33m\u001b[0m\u001b[1;33m\u001b[0m\u001b[0m\n\u001b[0;32m     24\u001b[0m \u001b[1;31m#     print(len(sim.env.walkers))\u001b[0m\u001b[1;33m\u001b[0m\u001b[1;33m\u001b[0m\u001b[1;33m\u001b[0m\u001b[0m\n",
      "\u001b[1;32m<ipython-input-5-e77151c8668a>\u001b[0m in \u001b[0;36mtimestep\u001b[1;34m(self)\u001b[0m\n\u001b[0;32m     16\u001b[0m         \u001b[1;31m# Let all walkers take a random step\u001b[0m\u001b[1;33m\u001b[0m\u001b[1;33m\u001b[0m\u001b[1;33m\u001b[0m\u001b[0m\n\u001b[0;32m     17\u001b[0m         \u001b[1;32mfor\u001b[0m \u001b[0mwalker\u001b[0m \u001b[1;32min\u001b[0m \u001b[0mself\u001b[0m\u001b[1;33m.\u001b[0m\u001b[0menv\u001b[0m\u001b[1;33m.\u001b[0m\u001b[0mwalkers\u001b[0m\u001b[1;33m:\u001b[0m\u001b[1;33m\u001b[0m\u001b[1;33m\u001b[0m\u001b[0m\n\u001b[1;32m---> 18\u001b[1;33m             \u001b[0mwalker\u001b[0m\u001b[1;33m.\u001b[0m\u001b[0mrandom_move\u001b[0m\u001b[1;33m(\u001b[0m\u001b[1;33m)\u001b[0m\u001b[1;33m\u001b[0m\u001b[1;33m\u001b[0m\u001b[0m\n\u001b[0m\u001b[0;32m     19\u001b[0m \u001b[1;33m\u001b[0m\u001b[0m\n\u001b[0;32m     20\u001b[0m \u001b[1;33m\u001b[0m\u001b[0m\n",
      "\u001b[1;32m<ipython-input-5-e77151c8668a>\u001b[0m in \u001b[0;36mrandom_move\u001b[1;34m(self)\u001b[0m\n\u001b[0;32m    126\u001b[0m             \u001b[1;32mif\u001b[0m \u001b[0mself\u001b[0m\u001b[1;33m.\u001b[0m\u001b[0mcheck_in_object\u001b[0m\u001b[1;33m(\u001b[0m\u001b[0mneighbor\u001b[0m\u001b[1;33m)\u001b[0m \u001b[1;32mand\u001b[0m \u001b[0mnp\u001b[0m\u001b[1;33m.\u001b[0m\u001b[0mrandom\u001b[0m\u001b[1;33m.\u001b[0m\u001b[0muniform\u001b[0m\u001b[1;33m(\u001b[0m\u001b[1;33m)\u001b[0m \u001b[1;33m<\u001b[0m \u001b[0mself\u001b[0m\u001b[1;33m.\u001b[0m\u001b[0mprob_of_attachment\u001b[0m\u001b[1;33m:\u001b[0m\u001b[1;33m\u001b[0m\u001b[1;33m\u001b[0m\u001b[0m\n\u001b[0;32m    127\u001b[0m                 \u001b[0mself\u001b[0m\u001b[1;33m.\u001b[0m\u001b[0mremove_walker\u001b[0m\u001b[1;33m(\u001b[0m\u001b[1;33m)\u001b[0m\u001b[1;33m\u001b[0m\u001b[1;33m\u001b[0m\u001b[0m\n\u001b[1;32m--> 128\u001b[1;33m                 \u001b[0mself\u001b[0m\u001b[1;33m.\u001b[0m\u001b[0menv\u001b[0m\u001b[1;33m.\u001b[0m\u001b[0mobject\u001b[0m\u001b[1;33m.\u001b[0m\u001b[0madd_cell\u001b[0m\u001b[1;33m(\u001b[0m\u001b[0mself\u001b[0m\u001b[1;33m.\u001b[0m\u001b[0mpos\u001b[0m\u001b[1;33m)\u001b[0m\u001b[1;33m\u001b[0m\u001b[1;33m\u001b[0m\u001b[0m\n\u001b[0m\u001b[0;32m    129\u001b[0m                 \u001b[1;32mreturn\u001b[0m\u001b[1;33m\u001b[0m\u001b[1;33m\u001b[0m\u001b[0m\n\u001b[0;32m    130\u001b[0m \u001b[1;33m\u001b[0m\u001b[0m\n",
      "\u001b[1;32m<ipython-input-5-e77151c8668a>\u001b[0m in \u001b[0;36madd_cell\u001b[1;34m(self, cell)\u001b[0m\n\u001b[0;32m    150\u001b[0m \u001b[1;33m\u001b[0m\u001b[0m\n\u001b[0;32m    151\u001b[0m     \u001b[1;32mdef\u001b[0m \u001b[0madd_cell\u001b[0m\u001b[1;33m(\u001b[0m\u001b[0mself\u001b[0m\u001b[1;33m,\u001b[0m \u001b[0mcell\u001b[0m\u001b[1;33m)\u001b[0m\u001b[1;33m:\u001b[0m\u001b[1;33m\u001b[0m\u001b[1;33m\u001b[0m\u001b[0m\n\u001b[1;32m--> 152\u001b[1;33m         \u001b[0mself\u001b[0m\u001b[1;33m.\u001b[0m\u001b[0mcells_in_object\u001b[0m \u001b[1;33m=\u001b[0m \u001b[0mnp\u001b[0m\u001b[1;33m.\u001b[0m\u001b[0mvstack\u001b[0m\u001b[1;33m(\u001b[0m\u001b[1;33m(\u001b[0m\u001b[0mself\u001b[0m\u001b[1;33m.\u001b[0m\u001b[0mcells_in_object\u001b[0m\u001b[1;33m,\u001b[0m \u001b[0mcell\u001b[0m\u001b[1;33m)\u001b[0m\u001b[1;33m)\u001b[0m\u001b[1;33m\u001b[0m\u001b[1;33m\u001b[0m\u001b[0m\n\u001b[0m\u001b[0;32m    153\u001b[0m         \u001b[0mself\u001b[0m\u001b[1;33m.\u001b[0m\u001b[0menv\u001b[0m\u001b[1;33m.\u001b[0m\u001b[0madd_cell\u001b[0m\u001b[1;33m(\u001b[0m\u001b[0mcell\u001b[0m\u001b[1;33m,\u001b[0m \u001b[1;34m'object'\u001b[0m\u001b[1;33m)\u001b[0m\u001b[1;33m\u001b[0m\u001b[1;33m\u001b[0m\u001b[0m\n",
      "\u001b[1;32m<__array_function__ internals>\u001b[0m in \u001b[0;36mvstack\u001b[1;34m(*args, **kwargs)\u001b[0m\n",
      "\u001b[1;32mc:\\users\\juliu\\appdata\\local\\programs\\python\\python37\\lib\\site-packages\\numpy\\core\\shape_base.py\u001b[0m in \u001b[0;36mvstack\u001b[1;34m(tup)\u001b[0m\n\u001b[0;32m    281\u001b[0m     \u001b[1;32mif\u001b[0m \u001b[1;32mnot\u001b[0m \u001b[0misinstance\u001b[0m\u001b[1;33m(\u001b[0m\u001b[0marrs\u001b[0m\u001b[1;33m,\u001b[0m \u001b[0mlist\u001b[0m\u001b[1;33m)\u001b[0m\u001b[1;33m:\u001b[0m\u001b[1;33m\u001b[0m\u001b[1;33m\u001b[0m\u001b[0m\n\u001b[0;32m    282\u001b[0m         \u001b[0marrs\u001b[0m \u001b[1;33m=\u001b[0m \u001b[1;33m[\u001b[0m\u001b[0marrs\u001b[0m\u001b[1;33m]\u001b[0m\u001b[1;33m\u001b[0m\u001b[1;33m\u001b[0m\u001b[0m\n\u001b[1;32m--> 283\u001b[1;33m     \u001b[1;32mreturn\u001b[0m \u001b[0m_nx\u001b[0m\u001b[1;33m.\u001b[0m\u001b[0mconcatenate\u001b[0m\u001b[1;33m(\u001b[0m\u001b[0marrs\u001b[0m\u001b[1;33m,\u001b[0m \u001b[1;36m0\u001b[0m\u001b[1;33m)\u001b[0m\u001b[1;33m\u001b[0m\u001b[1;33m\u001b[0m\u001b[0m\n\u001b[0m\u001b[0;32m    284\u001b[0m \u001b[1;33m\u001b[0m\u001b[0m\n\u001b[0;32m    285\u001b[0m \u001b[1;33m\u001b[0m\u001b[0m\n",
      "\u001b[1;32m<__array_function__ internals>\u001b[0m in \u001b[0;36mconcatenate\u001b[1;34m(*args, **kwargs)\u001b[0m\n",
      "\u001b[1;31mKeyboardInterrupt\u001b[0m: "
     ]
    }
   ],
   "source": [
    "n = 2*10**6\n",
    "# n = 50\n",
    "# n = 2\n",
    "\n",
    "sim = Simulation(top_boundary=50, bottom_boundary=0,\n",
    "                 left_boundary=0, right_boundary=50, \n",
    "                 prob_of_attachment=1)\n",
    "\n",
    "# sim = Simulation()\n",
    "\n",
    "a = np.zeros((sim.env.right_boundary, sim.env.top_boundary))\n",
    "a = sim.env.grid\n",
    "# plt.figure(figsize=(5,5))\n",
    "\n",
    "t = 0\n",
    "while True:\n",
    "    if t%10000==0:\n",
    "        print(t)\n",
    "        clear_output(wait=True)\n",
    "        plt.imshow(a)\n",
    "        plt.show()\n",
    "    sim.timestep()\n",
    "    a = sim.env.grid\n",
    "#     print(len(sim.env.walkers))\n",
    "#     sleep(0.01)\n",
    "#     clear_output(wait=True)\n",
    "    t += 1\n",
    "\n",
    "# for i in range(n):\n",
    "#     if i%100000==0:\n",
    "#         print('iteration ', i)\n",
    "#     sim.timestep()"
   ]
  },
  {
   "cell_type": "code",
   "execution_count": 30,
   "metadata": {},
   "outputs": [
    {
     "name": "stdout",
     "output_type": "stream",
     "text": [
      "iteration  0\n",
      "iteration  100000\n",
      "iteration  200000\n",
      "iteration  300000\n",
      "iteration  400000\n",
      "iteration  500000\n",
      "iteration  600000\n"
     ]
    }
   ],
   "source": [
    "n = int(7*10**5)\n",
    "\n",
    "sim = Simulation(top_boundary=50, bottom_boundary=0,\n",
    "                 left_boundary=0, right_boundary=50, \n",
    "                 prob_of_attachment=1)\n",
    "\n",
    "for i in range(n):\n",
    "    if i%100000==0:\n",
    "        print('iteration ', i)\n",
    "    sim.timestep()"
   ]
  },
  {
   "cell_type": "code",
   "execution_count": 32,
   "metadata": {},
   "outputs": [
    {
     "data": {
      "image/png": "[encoded data removed]",
      "text/plain": [
       "<Figure size 360x360 with 1 Axes>"
      ]
     },
     "metadata": {
      "needs_background": "light"
     },
     "output_type": "display_data"
    }
   ],
   "source": [
    "fig = plt.subplots(figsize=(5,5))\n",
    "plt.imshow(sim.env.grid)\n",
    "plt.xlabel('x')\n",
    "plt.ylabel('y')\n",
    "plt.axis('off')\n",
    "\n",
    "plt.tight_layout()\n",
    "plt.savefig('MC_DLA_700K.pdf', bbox_inches='tight')\n",
    "plt.show()"
   ]
  },
  {
   "cell_type": "code",
   "execution_count": 33,
   "metadata": {},
   "outputs": [],
   "source": [
    "df = pd.DataFrame(sim.env.grid)\n",
    "df.to_csv('MC_DLA_700K.csv')"
   ]
  },
  {
   "cell_type": "code",
   "execution_count": 9,
   "metadata": {},
   "outputs": [
    {
     "name": "stdout",
     "output_type": "stream",
     "text": [
      "0.9 , iteration  0\n",
      "0.9 , iteration  100000\n",
      "0.9 , iteration  200000\n",
      "0.9 , iteration  300000\n",
      "0.9 , iteration  400000\n",
      "0.9 , iteration  500000\n",
      "0.9 , iteration  600000\n",
      "0.7 , iteration  0\n",
      "0.7 , iteration  100000\n",
      "0.7 , iteration  200000\n",
      "0.7 , iteration  300000\n",
      "0.7 , iteration  400000\n",
      "0.7 , iteration  500000\n",
      "0.7 , iteration  600000\n",
      "0.5 , iteration  0\n",
      "0.5 , iteration  100000\n",
      "0.5 , iteration  200000\n",
      "0.5 , iteration  300000\n",
      "0.5 , iteration  400000\n",
      "0.5 , iteration  500000\n",
      "0.5 , iteration  600000\n",
      "0.3 , iteration  0\n",
      "0.3 , iteration  100000\n",
      "0.3 , iteration  200000\n",
      "0.3 , iteration  300000\n",
      "0.3 , iteration  400000\n",
      "0.3 , iteration  500000\n",
      "0.3 , iteration  600000\n",
      "0.1 , iteration  0\n",
      "0.1 , iteration  100000\n",
      "0.1 , iteration  200000\n",
      "0.1 , iteration  300000\n",
      "0.1 , iteration  400000\n",
      "0.1 , iteration  500000\n",
      "0.1 , iteration  600000\n"
     ]
    }
   ],
   "source": [
    "n = 7*10**5\n",
    "\n",
    "MC_results = {}\n",
    "\n",
    "for p in [0.9, 0.7, 0.5, 0.3, 0.1]:\n",
    "    sim = Simulation(top_boundary=50, bottom_boundary=0,\n",
    "                 left_boundary=0, right_boundary=50, \n",
    "                 prob_of_attachment=p)\n",
    "    for i in range(n):\n",
    "        if i%100000==0:\n",
    "            print(p,', iteration ', i)\n",
    "        sim.timestep()\n",
    "    df = pd.DataFrame(sim.env.grid)\n",
    "    df.to_csv('MC_DLA_'+str(p)+'_700K.csv')\n",
    "    MC_results[p] = sim.env.grid"
   ]
  },
  {
   "cell_type": "code",
   "execution_count": 18,
   "metadata": {},
   "outputs": [
    {
     "data": {
      "image/png": "[encoded data removed]",
      "text/plain": [
       "<Figure size 1080x216 with 5 Axes>"
      ]
     },
     "metadata": {
      "needs_background": "light"
     },
     "output_type": "display_data"
    }
   ],
   "source": [
    "fig, [ax1,ax2,ax3, ax4, ax5] = plt.subplots(1,5,figsize=(15,3))\n",
    "\n",
    "ax1.imshow(MC_results[0.9])\n",
    "ax1.set_title('$p=0.9$', fontsize=16)\n",
    "ax1.axis('off')\n",
    "\n",
    "ax2.imshow(MC_results[0.7])\n",
    "ax2.set_title('$p=0.7$', fontsize=16)\n",
    "ax2.axis('off')\n",
    "\n",
    "ax3.imshow(MC_results[0.5])\n",
    "ax3.set_title('$p=0.5$', fontsize=16)\n",
    "ax3.axis('off')\n",
    "\n",
    "ax4.imshow(MC_results[0.3])\n",
    "ax4.set_title('$p=0.3$', fontsize=16)\n",
    "ax4.axis('off')\n",
    "\n",
    "ax5.imshow(MC_results[0.1])\n",
    "ax5.set_title('$p=0.1$', fontsize=16)\n",
    "ax5.axis('off')\n",
    "\n",
    "plt.tight_layout()\n",
    "plt.savefig('MC_DLA_probs_700K.pdf', bbox_inches='tight')\n",
    "plt.show()"
   ]
  },
  {
   "cell_type": "code",
   "execution_count": null,
   "metadata": {},
   "outputs": [],
   "source": []
  }
 ],
 "metadata": {
  "kernelspec": {
   "display_name": "Python 3",
   "language": "python",
   "name": "python3"
  },
  "language_info": {
   "codemirror_mode": {
    "name": "ipython",
    "version": 3
   },
   "file_extension": ".py",
   "mimetype": "text/x-python",
   "name": "python",
   "nbconvert_exporter": "python",
   "pygments_lexer": "ipython3",
   "version": "3.7.3"
  }
 },
 "nbformat": 4,
 "nbformat_minor": 2
}
